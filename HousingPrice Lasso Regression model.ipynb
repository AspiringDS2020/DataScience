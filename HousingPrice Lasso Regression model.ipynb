{
 "cells": [
  {
   "cell_type": "code",
   "execution_count": 40,
   "metadata": {},
   "outputs": [],
   "source": [
    "import numpy as np\n",
    "import pandas as pd\n",
    "from sklearn.linear_model import LinearRegression\n",
    "from sklearn.metrics import mean_squared_log_error\n",
    "from sklearn.model_selection import cross_val_score\n",
    "from sklearn.linear_model import Lasso, Ridge, ElasticNet"
   ]
  },
  {
   "cell_type": "code",
   "execution_count": 41,
   "metadata": {},
   "outputs": [],
   "source": [
    "train = pd.read_csv('train_housing_price_preprocessed.csv')\n",
    "test = pd.read_csv('test_housing_price_preprocessed.csv')"
   ]
  },
  {
   "cell_type": "code",
   "execution_count": 42,
   "metadata": {},
   "outputs": [
    {
     "data": {
      "text/plain": [
       "Index(['POSTED_BY_Builder', 'POSTED_BY_Dealer', 'POSTED_BY_Owner',\n",
       "       'UNDER_CONSTRUCTION', 'RERA', 'BHK_NO.', 'LONGITUDE', 'LATITUDE',\n",
       "       'TARGET(PRICE_IN_LACS)', 'SQUARE_FT_LOG', 'BHK_RK', 'CITY', 'LOCALITY'],\n",
       "      dtype='object')"
      ]
     },
     "execution_count": 42,
     "metadata": {},
     "output_type": "execute_result"
    }
   ],
   "source": [
    "train.columns"
   ]
  },
  {
   "cell_type": "code",
   "execution_count": 43,
   "metadata": {},
   "outputs": [],
   "source": [
    "#train_x = train.drop(columns=['TARGET(PRICE_IN_LACS)'])\n",
    "train_x = train.drop(columns=['TARGET(PRICE_IN_LACS)','CITY','LOCALITY'])"
   ]
  },
  {
   "cell_type": "code",
   "execution_count": 44,
   "metadata": {},
   "outputs": [],
   "source": [
    "train_y = train[\"TARGET(PRICE_IN_LACS)\"]"
   ]
  },
  {
   "cell_type": "code",
   "execution_count": 27,
   "metadata": {},
   "outputs": [
    {
     "data": {
      "text/html": [
       "<div>\n",
       "<style scoped>\n",
       "    .dataframe tbody tr th:only-of-type {\n",
       "        vertical-align: middle;\n",
       "    }\n",
       "\n",
       "    .dataframe tbody tr th {\n",
       "        vertical-align: top;\n",
       "    }\n",
       "\n",
       "    .dataframe thead th {\n",
       "        text-align: right;\n",
       "    }\n",
       "</style>\n",
       "<table border=\"1\" class=\"dataframe\">\n",
       "  <thead>\n",
       "    <tr style=\"text-align: right;\">\n",
       "      <th></th>\n",
       "      <th>POSTED_BY_Builder</th>\n",
       "      <th>POSTED_BY_Dealer</th>\n",
       "      <th>POSTED_BY_Owner</th>\n",
       "      <th>RERA</th>\n",
       "      <th>BHK_NO.</th>\n",
       "      <th>SQUARE_FT</th>\n",
       "      <th>READY_TO_MOVE</th>\n",
       "      <th>RESALE</th>\n",
       "      <th>LONGITUDE</th>\n",
       "      <th>LATITUDE</th>\n",
       "      <th>TARGET(PRICE_IN_LACS)</th>\n",
       "      <th>BHK_RK</th>\n",
       "      <th>CITY</th>\n",
       "      <th>LOCALITY</th>\n",
       "    </tr>\n",
       "  </thead>\n",
       "  <tbody>\n",
       "  </tbody>\n",
       "</table>\n",
       "</div>"
      ],
      "text/plain": [
       "Empty DataFrame\n",
       "Columns: [POSTED_BY_Builder, POSTED_BY_Dealer, POSTED_BY_Owner, RERA, BHK_NO., SQUARE_FT, READY_TO_MOVE, RESALE, LONGITUDE, LATITUDE, TARGET(PRICE_IN_LACS), BHK_RK, CITY, LOCALITY]\n",
       "Index: []"
      ]
     },
     "execution_count": 27,
     "metadata": {},
     "output_type": "execute_result"
    }
   ],
   "source": []
  },
  {
   "cell_type": "code",
   "execution_count": 45,
   "metadata": {},
   "outputs": [],
   "source": [
    "#test_x = test.drop(columns=[\"TARGET(PRICE_IN_LACS)\"])\n",
    "test_x = test.drop(columns=[\"TARGET(PRICE_IN_LACS)\",'CITY','LOCALITY'])"
   ]
  },
  {
   "cell_type": "code",
   "execution_count": 46,
   "metadata": {},
   "outputs": [
    {
     "name": "stdout",
     "output_type": "stream",
     "text": [
      "<class 'pandas.core.frame.DataFrame'>\n",
      "RangeIndex: 29050 entries, 0 to 29049\n",
      "Data columns (total 13 columns):\n",
      " #   Column                 Non-Null Count  Dtype  \n",
      "---  ------                 --------------  -----  \n",
      " 0   POSTED_BY_Builder      29050 non-null  int64  \n",
      " 1   POSTED_BY_Dealer       29050 non-null  int64  \n",
      " 2   POSTED_BY_Owner        29050 non-null  int64  \n",
      " 3   UNDER_CONSTRUCTION     29050 non-null  int64  \n",
      " 4   RERA                   29050 non-null  int64  \n",
      " 5   BHK_NO.                29050 non-null  int64  \n",
      " 6   LONGITUDE              29050 non-null  float64\n",
      " 7   LATITUDE               29050 non-null  float64\n",
      " 8   TARGET(PRICE_IN_LACS)  29050 non-null  float64\n",
      " 9   SQUARE_FT_LOG          29050 non-null  float64\n",
      " 10  BHK_RK                 29050 non-null  int64  \n",
      " 11  CITY                   29050 non-null  object \n",
      " 12  LOCALITY               29039 non-null  object \n",
      "dtypes: float64(4), int64(7), object(2)\n",
      "memory usage: 2.9+ MB\n"
     ]
    }
   ],
   "source": [
    "train.info()"
   ]
  },
  {
   "cell_type": "code",
   "execution_count": 47,
   "metadata": {},
   "outputs": [
    {
     "data": {
      "text/plain": [
       "LinearRegression(copy_X=True, fit_intercept=True, n_jobs=None, normalize=False)"
      ]
     },
     "execution_count": 47,
     "metadata": {},
     "output_type": "execute_result"
    }
   ],
   "source": [
    "model=LinearRegression()\n",
    "model.fit(train_x,train_y)"
   ]
  },
  {
   "cell_type": "code",
   "execution_count": 48,
   "metadata": {},
   "outputs": [],
   "source": [
    "pred_train=model.predict(train_x)\n",
    "pred_test=model.predict(test_x)"
   ]
  },
  {
   "cell_type": "code",
   "execution_count": 49,
   "metadata": {},
   "outputs": [],
   "source": [
    "pred_train = abs(pred_train)\n",
    "pred_test = abs(pred_test)"
   ]
  },
  {
   "cell_type": "code",
   "execution_count": 50,
   "metadata": {},
   "outputs": [
    {
     "name": "stdout",
     "output_type": "stream",
     "text": [
      "RMSLE of train 1.4494432185585646\n"
     ]
    }
   ],
   "source": [
    "RMSLE = np.sqrt(mean_squared_log_error(train_y,pred_train))\n",
    "print('RMSLE of train',RMSLE)"
   ]
  },
  {
   "cell_type": "code",
   "execution_count": 24,
   "metadata": {},
   "outputs": [],
   "source": [
    "#score=cross_val_score(model,train_x,train_y,cv=10,scoring='neg_mean_squared_log_error')"
   ]
  },
  {
   "cell_type": "code",
   "execution_count": 55,
   "metadata": {},
   "outputs": [
    {
     "data": {
      "text/html": [
       "<div>\n",
       "<style scoped>\n",
       "    .dataframe tbody tr th:only-of-type {\n",
       "        vertical-align: middle;\n",
       "    }\n",
       "\n",
       "    .dataframe tbody tr th {\n",
       "        vertical-align: top;\n",
       "    }\n",
       "\n",
       "    .dataframe thead th {\n",
       "        text-align: right;\n",
       "    }\n",
       "</style>\n",
       "<table border=\"1\" class=\"dataframe\">\n",
       "  <thead>\n",
       "    <tr style=\"text-align: right;\">\n",
       "      <th></th>\n",
       "      <th>POSTED_BY_Builder</th>\n",
       "      <th>POSTED_BY_Dealer</th>\n",
       "      <th>POSTED_BY_Owner</th>\n",
       "      <th>UNDER_CONSTRUCTION</th>\n",
       "      <th>RERA</th>\n",
       "      <th>BHK_NO.</th>\n",
       "      <th>LONGITUDE</th>\n",
       "      <th>LATITUDE</th>\n",
       "      <th>SQUARE_FT_LOG</th>\n",
       "      <th>BHK_RK</th>\n",
       "    </tr>\n",
       "  </thead>\n",
       "  <tbody>\n",
       "    <tr>\n",
       "      <th>POSTED_BY_Builder</th>\n",
       "      <td>1.000000</td>\n",
       "      <td>-0.180755</td>\n",
       "      <td>-0.107298</td>\n",
       "      <td>0.187319</td>\n",
       "      <td>0.121520</td>\n",
       "      <td>-0.021260</td>\n",
       "      <td>-0.026272</td>\n",
       "      <td>3.392203e-03</td>\n",
       "      <td>-0.022546</td>\n",
       "      <td>-3.539902e-02</td>\n",
       "    </tr>\n",
       "    <tr>\n",
       "      <th>POSTED_BY_Dealer</th>\n",
       "      <td>-0.180755</td>\n",
       "      <td>1.000000</td>\n",
       "      <td>-0.958455</td>\n",
       "      <td>0.174763</td>\n",
       "      <td>0.235704</td>\n",
       "      <td>0.108367</td>\n",
       "      <td>0.067546</td>\n",
       "      <td>-3.750127e-02</td>\n",
       "      <td>0.133628</td>\n",
       "      <td>-1.049967e-02</td>\n",
       "    </tr>\n",
       "    <tr>\n",
       "      <th>POSTED_BY_Owner</th>\n",
       "      <td>-0.107298</td>\n",
       "      <td>-0.958455</td>\n",
       "      <td>1.000000</td>\n",
       "      <td>-0.230990</td>\n",
       "      <td>-0.273511</td>\n",
       "      <td>-0.103380</td>\n",
       "      <td>-0.060662</td>\n",
       "      <td>3.692540e-02</td>\n",
       "      <td>-0.128543</td>\n",
       "      <td>2.088032e-02</td>\n",
       "    </tr>\n",
       "    <tr>\n",
       "      <th>UNDER_CONSTRUCTION</th>\n",
       "      <td>0.187319</td>\n",
       "      <td>0.174763</td>\n",
       "      <td>-0.230990</td>\n",
       "      <td>1.000000</td>\n",
       "      <td>0.363535</td>\n",
       "      <td>-0.034652</td>\n",
       "      <td>0.011269</td>\n",
       "      <td>3.481664e-03</td>\n",
       "      <td>-0.043783</td>\n",
       "      <td>-1.939750e-02</td>\n",
       "    </tr>\n",
       "    <tr>\n",
       "      <th>RERA</th>\n",
       "      <td>0.121520</td>\n",
       "      <td>0.235704</td>\n",
       "      <td>-0.273511</td>\n",
       "      <td>0.363535</td>\n",
       "      <td>1.000000</td>\n",
       "      <td>0.009514</td>\n",
       "      <td>0.103211</td>\n",
       "      <td>-7.180131e-02</td>\n",
       "      <td>0.030177</td>\n",
       "      <td>-5.000248e-03</td>\n",
       "    </tr>\n",
       "    <tr>\n",
       "      <th>BHK_NO.</th>\n",
       "      <td>-0.021260</td>\n",
       "      <td>0.108367</td>\n",
       "      <td>-0.103380</td>\n",
       "      <td>-0.034652</td>\n",
       "      <td>0.009514</td>\n",
       "      <td>1.000000</td>\n",
       "      <td>0.069663</td>\n",
       "      <td>5.092082e-02</td>\n",
       "      <td>0.654801</td>\n",
       "      <td>4.666666e-02</td>\n",
       "    </tr>\n",
       "    <tr>\n",
       "      <th>LONGITUDE</th>\n",
       "      <td>-0.026272</td>\n",
       "      <td>0.067546</td>\n",
       "      <td>-0.060662</td>\n",
       "      <td>0.011269</td>\n",
       "      <td>0.103211</td>\n",
       "      <td>0.069663</td>\n",
       "      <td>1.000000</td>\n",
       "      <td>-1.430104e-01</td>\n",
       "      <td>0.036495</td>\n",
       "      <td>-8.448559e-03</td>\n",
       "    </tr>\n",
       "    <tr>\n",
       "      <th>LATITUDE</th>\n",
       "      <td>0.003392</td>\n",
       "      <td>-0.037501</td>\n",
       "      <td>0.036925</td>\n",
       "      <td>0.003482</td>\n",
       "      <td>-0.071801</td>\n",
       "      <td>0.050921</td>\n",
       "      <td>-0.143010</td>\n",
       "      <td>1.000000e+00</td>\n",
       "      <td>0.026434</td>\n",
       "      <td>-5.508794e-08</td>\n",
       "    </tr>\n",
       "    <tr>\n",
       "      <th>SQUARE_FT_LOG</th>\n",
       "      <td>-0.022546</td>\n",
       "      <td>0.133628</td>\n",
       "      <td>-0.128543</td>\n",
       "      <td>-0.043783</td>\n",
       "      <td>0.030177</td>\n",
       "      <td>0.654801</td>\n",
       "      <td>0.036495</td>\n",
       "      <td>2.643442e-02</td>\n",
       "      <td>1.000000</td>\n",
       "      <td>5.746802e-02</td>\n",
       "    </tr>\n",
       "    <tr>\n",
       "      <th>BHK_RK</th>\n",
       "      <td>-0.035399</td>\n",
       "      <td>-0.010500</td>\n",
       "      <td>0.020880</td>\n",
       "      <td>-0.019398</td>\n",
       "      <td>-0.005000</td>\n",
       "      <td>0.046667</td>\n",
       "      <td>-0.008449</td>\n",
       "      <td>-5.508794e-08</td>\n",
       "      <td>0.057468</td>\n",
       "      <td>1.000000e+00</td>\n",
       "    </tr>\n",
       "  </tbody>\n",
       "</table>\n",
       "</div>"
      ],
      "text/plain": [
       "                    POSTED_BY_Builder  POSTED_BY_Dealer  POSTED_BY_Owner  \\\n",
       "POSTED_BY_Builder            1.000000         -0.180755        -0.107298   \n",
       "POSTED_BY_Dealer            -0.180755          1.000000        -0.958455   \n",
       "POSTED_BY_Owner             -0.107298         -0.958455         1.000000   \n",
       "UNDER_CONSTRUCTION           0.187319          0.174763        -0.230990   \n",
       "RERA                         0.121520          0.235704        -0.273511   \n",
       "BHK_NO.                     -0.021260          0.108367        -0.103380   \n",
       "LONGITUDE                   -0.026272          0.067546        -0.060662   \n",
       "LATITUDE                     0.003392         -0.037501         0.036925   \n",
       "SQUARE_FT_LOG               -0.022546          0.133628        -0.128543   \n",
       "BHK_RK                      -0.035399         -0.010500         0.020880   \n",
       "\n",
       "                    UNDER_CONSTRUCTION      RERA   BHK_NO.  LONGITUDE  \\\n",
       "POSTED_BY_Builder             0.187319  0.121520 -0.021260  -0.026272   \n",
       "POSTED_BY_Dealer              0.174763  0.235704  0.108367   0.067546   \n",
       "POSTED_BY_Owner              -0.230990 -0.273511 -0.103380  -0.060662   \n",
       "UNDER_CONSTRUCTION            1.000000  0.363535 -0.034652   0.011269   \n",
       "RERA                          0.363535  1.000000  0.009514   0.103211   \n",
       "BHK_NO.                      -0.034652  0.009514  1.000000   0.069663   \n",
       "LONGITUDE                     0.011269  0.103211  0.069663   1.000000   \n",
       "LATITUDE                      0.003482 -0.071801  0.050921  -0.143010   \n",
       "SQUARE_FT_LOG                -0.043783  0.030177  0.654801   0.036495   \n",
       "BHK_RK                       -0.019398 -0.005000  0.046667  -0.008449   \n",
       "\n",
       "                        LATITUDE  SQUARE_FT_LOG        BHK_RK  \n",
       "POSTED_BY_Builder   3.392203e-03      -0.022546 -3.539902e-02  \n",
       "POSTED_BY_Dealer   -3.750127e-02       0.133628 -1.049967e-02  \n",
       "POSTED_BY_Owner     3.692540e-02      -0.128543  2.088032e-02  \n",
       "UNDER_CONSTRUCTION  3.481664e-03      -0.043783 -1.939750e-02  \n",
       "RERA               -7.180131e-02       0.030177 -5.000248e-03  \n",
       "BHK_NO.             5.092082e-02       0.654801  4.666666e-02  \n",
       "LONGITUDE          -1.430104e-01       0.036495 -8.448559e-03  \n",
       "LATITUDE            1.000000e+00       0.026434 -5.508794e-08  \n",
       "SQUARE_FT_LOG       2.643442e-02       1.000000  5.746802e-02  \n",
       "BHK_RK             -5.508794e-08       0.057468  1.000000e+00  "
      ]
     },
     "execution_count": 55,
     "metadata": {},
     "output_type": "execute_result"
    }
   ],
   "source": [
    "test_x."
   ]
  },
  {
   "cell_type": "code",
   "execution_count": 53,
   "metadata": {},
   "outputs": [
    {
     "ename": "ValueError",
     "evalue": "Mean Squared Logarithmic Error cannot be used when targets contain negative values.",
     "output_type": "error",
     "traceback": [
      "\u001b[1;31m---------------------------------------------------------------------------\u001b[0m",
      "\u001b[1;31mValueError\u001b[0m                                Traceback (most recent call last)",
      "\u001b[1;32m<ipython-input-53-05493e84f323>\u001b[0m in \u001b[0;36m<module>\u001b[1;34m\u001b[0m\n\u001b[0;32m      1\u001b[0m \u001b[0mmodel\u001b[0m\u001b[1;33m=\u001b[0m\u001b[0mLasso\u001b[0m\u001b[1;33m(\u001b[0m\u001b[0malpha\u001b[0m\u001b[1;33m=\u001b[0m\u001b[1;36m30\u001b[0m\u001b[1;33m)\u001b[0m\u001b[1;33m\u001b[0m\u001b[1;33m\u001b[0m\u001b[0m\n\u001b[1;32m----> 2\u001b[1;33m \u001b[0mrun_model\u001b[0m\u001b[1;33m(\u001b[0m\u001b[0mmodel\u001b[0m\u001b[1;33m,\u001b[0m \u001b[0mtrain_x\u001b[0m\u001b[1;33m,\u001b[0m \u001b[0mtrain_y\u001b[0m\u001b[1;33m,\u001b[0m \u001b[0mtest_x\u001b[0m\u001b[1;33m,\u001b[0m \u001b[1;34m\"test_result_Lasso_regression.csv\"\u001b[0m \u001b[1;33m)\u001b[0m\u001b[1;33m\u001b[0m\u001b[1;33m\u001b[0m\u001b[0m\n\u001b[0m",
      "\u001b[1;32m<ipython-input-52-f44c5ec912af>\u001b[0m in \u001b[0;36mrun_model\u001b[1;34m(model, train_X, train_y, test_X, filename)\u001b[0m\n\u001b[0;32m      5\u001b[0m     \u001b[0mpred_test\u001b[0m \u001b[1;33m=\u001b[0m \u001b[0mmodel\u001b[0m\u001b[1;33m.\u001b[0m\u001b[0mpredict\u001b[0m\u001b[1;33m(\u001b[0m\u001b[0mtest_x\u001b[0m\u001b[1;33m)\u001b[0m\u001b[1;33m\u001b[0m\u001b[1;33m\u001b[0m\u001b[0m\n\u001b[0;32m      6\u001b[0m     \u001b[0mpred_test\u001b[0m \u001b[1;33m=\u001b[0m \u001b[0mabs\u001b[0m\u001b[1;33m(\u001b[0m\u001b[0mpred_train\u001b[0m\u001b[1;33m)\u001b[0m\u001b[1;33m\u001b[0m\u001b[1;33m\u001b[0m\u001b[0m\n\u001b[1;32m----> 7\u001b[1;33m     \u001b[0mRMSLE\u001b[0m \u001b[1;33m=\u001b[0m \u001b[0mnp\u001b[0m\u001b[1;33m.\u001b[0m\u001b[0msqrt\u001b[0m\u001b[1;33m(\u001b[0m\u001b[0mmean_squared_log_error\u001b[0m\u001b[1;33m(\u001b[0m\u001b[0mtrain_y\u001b[0m\u001b[1;33m,\u001b[0m\u001b[0mpred_train\u001b[0m\u001b[1;33m)\u001b[0m\u001b[1;33m)\u001b[0m\u001b[1;33m\u001b[0m\u001b[1;33m\u001b[0m\u001b[0m\n\u001b[0m\u001b[0;32m      8\u001b[0m     \u001b[0mprint\u001b[0m\u001b[1;33m(\u001b[0m\u001b[1;34m'RMSLE of train'\u001b[0m\u001b[1;33m,\u001b[0m\u001b[0mRMSLE\u001b[0m\u001b[1;33m)\u001b[0m\u001b[1;33m\u001b[0m\u001b[1;33m\u001b[0m\u001b[0m\n\u001b[0;32m      9\u001b[0m    \u001b[1;31m# score = cross_val_score(model, train_x, train_y, cv = 10, scoring = \"neg_root_mean_squared_error\" )\u001b[0m\u001b[1;33m\u001b[0m\u001b[1;33m\u001b[0m\u001b[1;33m\u001b[0m\u001b[0m\n",
      "\u001b[1;32mC:\\ProgramData\\Anaconda3\\lib\\site-packages\\sklearn\\metrics\\_regression.py\u001b[0m in \u001b[0;36mmean_squared_log_error\u001b[1;34m(y_true, y_pred, sample_weight, multioutput)\u001b[0m\n\u001b[0;32m    324\u001b[0m \u001b[1;33m\u001b[0m\u001b[0m\n\u001b[0;32m    325\u001b[0m     \u001b[1;32mif\u001b[0m \u001b[1;33m(\u001b[0m\u001b[0my_true\u001b[0m \u001b[1;33m<\u001b[0m \u001b[1;36m0\u001b[0m\u001b[1;33m)\u001b[0m\u001b[1;33m.\u001b[0m\u001b[0many\u001b[0m\u001b[1;33m(\u001b[0m\u001b[1;33m)\u001b[0m \u001b[1;32mor\u001b[0m \u001b[1;33m(\u001b[0m\u001b[0my_pred\u001b[0m \u001b[1;33m<\u001b[0m \u001b[1;36m0\u001b[0m\u001b[1;33m)\u001b[0m\u001b[1;33m.\u001b[0m\u001b[0many\u001b[0m\u001b[1;33m(\u001b[0m\u001b[1;33m)\u001b[0m\u001b[1;33m:\u001b[0m\u001b[1;33m\u001b[0m\u001b[1;33m\u001b[0m\u001b[0m\n\u001b[1;32m--> 326\u001b[1;33m         raise ValueError(\"Mean Squared Logarithmic Error cannot be used when \"\n\u001b[0m\u001b[0;32m    327\u001b[0m                          \"targets contain negative values.\")\n\u001b[0;32m    328\u001b[0m \u001b[1;33m\u001b[0m\u001b[0m\n",
      "\u001b[1;31mValueError\u001b[0m: Mean Squared Logarithmic Error cannot be used when targets contain negative values."
     ]
    },
    {
     "data": {
      "image/png": "[encoded data removed]",
      "text/plain": [
       "<Figure size 432x288 with 1 Axes>"
      ]
     },
     "metadata": {
      "needs_background": "light"
     },
     "output_type": "display_data"
    }
   ],
   "source": [
    "model=Lasso(alpha=30)\n",
    "run_model(model, train_x, train_y, test_x, \"test_result_Lasso_regression.csv\" )"
   ]
  },
  {
   "cell_type": "code",
   "execution_count": 52,
   "metadata": {},
   "outputs": [],
   "source": [
    "def run_model(model, train_X, train_y, test_X,filename ):\n",
    "    model.fit(train_x, train_y)\n",
    "    pd.Series(model.coef_,index=test_x.columns).plot(kind = \"bar\")\n",
    "    pred_train = model.predict(train_x)\n",
    "    pred_test = model.predict(test_x)\n",
    "    pred_test = abs(pred_train)\n",
    "    RMSLE = np.sqrt(mean_squared_log_error(train_y,pred_train))\n",
    "    print('RMSLE of train',RMSLE)\n",
    "   # score = cross_val_score(model, train_x, train_y, cv = 10, scoring = \"neg_root_mean_squared_error\" )\n",
    "   # print(\"Cross validation Score  = \",np.mean(np.abs(score)))\n",
    "   # sample[\"Item_Outlet_Sales\"] = pred_test\n",
    "   # sample.to_csv(filename, index = False)"
   ]
  },
  {
   "cell_type": "code",
   "execution_count": 54,
   "metadata": {},
   "outputs": [
    {
     "ename": "ValueError",
     "evalue": "Mean Squared Logarithmic Error cannot be used when targets contain negative values.",
     "output_type": "error",
     "traceback": [
      "\u001b[1;31m---------------------------------------------------------------------------\u001b[0m",
      "\u001b[1;31mValueError\u001b[0m                                Traceback (most recent call last)",
      "\u001b[1;32m<ipython-input-54-4cc1de731803>\u001b[0m in \u001b[0;36m<module>\u001b[1;34m\u001b[0m\n\u001b[0;32m      1\u001b[0m \u001b[0mmodel\u001b[0m \u001b[1;33m=\u001b[0m \u001b[0mElasticNet\u001b[0m\u001b[1;33m(\u001b[0m\u001b[0malpha\u001b[0m\u001b[1;33m=\u001b[0m\u001b[1;36m1\u001b[0m\u001b[1;33m,\u001b[0m \u001b[0ml1_ratio\u001b[0m\u001b[1;33m=\u001b[0m\u001b[1;36m0.5\u001b[0m\u001b[1;33m)\u001b[0m\u001b[1;33m\u001b[0m\u001b[1;33m\u001b[0m\u001b[0m\n\u001b[1;32m----> 2\u001b[1;33m \u001b[0mrun_model\u001b[0m\u001b[1;33m(\u001b[0m\u001b[0mmodel\u001b[0m\u001b[1;33m,\u001b[0m \u001b[0mtrain_x\u001b[0m\u001b[1;33m,\u001b[0m \u001b[0mtrain_y\u001b[0m\u001b[1;33m,\u001b[0m \u001b[0mtest_x\u001b[0m\u001b[1;33m,\u001b[0m \u001b[1;34m\"test_result_ElasticNet_regression.csv\"\u001b[0m \u001b[1;33m)\u001b[0m\u001b[1;33m\u001b[0m\u001b[1;33m\u001b[0m\u001b[0m\n\u001b[0m",
      "\u001b[1;32m<ipython-input-52-f44c5ec912af>\u001b[0m in \u001b[0;36mrun_model\u001b[1;34m(model, train_X, train_y, test_X, filename)\u001b[0m\n\u001b[0;32m      5\u001b[0m     \u001b[0mpred_test\u001b[0m \u001b[1;33m=\u001b[0m \u001b[0mmodel\u001b[0m\u001b[1;33m.\u001b[0m\u001b[0mpredict\u001b[0m\u001b[1;33m(\u001b[0m\u001b[0mtest_x\u001b[0m\u001b[1;33m)\u001b[0m\u001b[1;33m\u001b[0m\u001b[1;33m\u001b[0m\u001b[0m\n\u001b[0;32m      6\u001b[0m     \u001b[0mpred_test\u001b[0m \u001b[1;33m=\u001b[0m \u001b[0mabs\u001b[0m\u001b[1;33m(\u001b[0m\u001b[0mpred_train\u001b[0m\u001b[1;33m)\u001b[0m\u001b[1;33m\u001b[0m\u001b[1;33m\u001b[0m\u001b[0m\n\u001b[1;32m----> 7\u001b[1;33m     \u001b[0mRMSLE\u001b[0m \u001b[1;33m=\u001b[0m \u001b[0mnp\u001b[0m\u001b[1;33m.\u001b[0m\u001b[0msqrt\u001b[0m\u001b[1;33m(\u001b[0m\u001b[0mmean_squared_log_error\u001b[0m\u001b[1;33m(\u001b[0m\u001b[0mtrain_y\u001b[0m\u001b[1;33m,\u001b[0m\u001b[0mpred_train\u001b[0m\u001b[1;33m)\u001b[0m\u001b[1;33m)\u001b[0m\u001b[1;33m\u001b[0m\u001b[1;33m\u001b[0m\u001b[0m\n\u001b[0m\u001b[0;32m      8\u001b[0m     \u001b[0mprint\u001b[0m\u001b[1;33m(\u001b[0m\u001b[1;34m'RMSLE of train'\u001b[0m\u001b[1;33m,\u001b[0m\u001b[0mRMSLE\u001b[0m\u001b[1;33m)\u001b[0m\u001b[1;33m\u001b[0m\u001b[1;33m\u001b[0m\u001b[0m\n\u001b[0;32m      9\u001b[0m    \u001b[1;31m# score = cross_val_score(model, train_x, train_y, cv = 10, scoring = \"neg_root_mean_squared_error\" )\u001b[0m\u001b[1;33m\u001b[0m\u001b[1;33m\u001b[0m\u001b[1;33m\u001b[0m\u001b[0m\n",
      "\u001b[1;32mC:\\ProgramData\\Anaconda3\\lib\\site-packages\\sklearn\\metrics\\_regression.py\u001b[0m in \u001b[0;36mmean_squared_log_error\u001b[1;34m(y_true, y_pred, sample_weight, multioutput)\u001b[0m\n\u001b[0;32m    324\u001b[0m \u001b[1;33m\u001b[0m\u001b[0m\n\u001b[0;32m    325\u001b[0m     \u001b[1;32mif\u001b[0m \u001b[1;33m(\u001b[0m\u001b[0my_true\u001b[0m \u001b[1;33m<\u001b[0m \u001b[1;36m0\u001b[0m\u001b[1;33m)\u001b[0m\u001b[1;33m.\u001b[0m\u001b[0many\u001b[0m\u001b[1;33m(\u001b[0m\u001b[1;33m)\u001b[0m \u001b[1;32mor\u001b[0m \u001b[1;33m(\u001b[0m\u001b[0my_pred\u001b[0m \u001b[1;33m<\u001b[0m \u001b[1;36m0\u001b[0m\u001b[1;33m)\u001b[0m\u001b[1;33m.\u001b[0m\u001b[0many\u001b[0m\u001b[1;33m(\u001b[0m\u001b[1;33m)\u001b[0m\u001b[1;33m:\u001b[0m\u001b[1;33m\u001b[0m\u001b[1;33m\u001b[0m\u001b[0m\n\u001b[1;32m--> 326\u001b[1;33m         raise ValueError(\"Mean Squared Logarithmic Error cannot be used when \"\n\u001b[0m\u001b[0;32m    327\u001b[0m                          \"targets contain negative values.\")\n\u001b[0;32m    328\u001b[0m \u001b[1;33m\u001b[0m\u001b[0m\n",
      "\u001b[1;31mValueError\u001b[0m: Mean Squared Logarithmic Error cannot be used when targets contain negative values."
     ]
    },
    {
     "data": {
      "image/png": "[encoded data removed]",
      "text/plain": [
       "<Figure size 432x288 with 1 Axes>"
      ]
     },
     "metadata": {
      "needs_background": "light"
     },
     "output_type": "display_data"
    }
   ],
   "source": [
    "model = ElasticNet(alpha=1, l1_ratio=0.5)\n",
    "run_model(model, train_x, train_y, test_x, \"test_result_ElasticNet_regression.csv\" )"
   ]
  },
  {
   "cell_type": "code",
   "execution_count": null,
   "metadata": {},
   "outputs": [],
   "source": []
  }
 ],
 "metadata": {
  "kernelspec": {
   "display_name": "Python 3",
   "language": "python",
   "name": "python3"
  },
  "language_info": {
   "codemirror_mode": {
    "name": "ipython",
    "version": 3
   },
   "file_extension": ".py",
   "mimetype": "text/x-python",
   "name": "python",
   "nbconvert_exporter": "python",
   "pygments_lexer": "ipython3",
   "version": "3.7.6"
  }
 },
 "nbformat": 4,
 "nbformat_minor": 4
}
